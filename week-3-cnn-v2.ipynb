{
 "cells": [
  {
   "cell_type": "markdown",
   "id": "f1dfe5a1",
   "metadata": {
    "papermill": {
     "duration": 0.011462,
     "end_time": "2022-10-22T23:20:26.818540",
     "exception": false,
     "start_time": "2022-10-22T23:20:26.807078",
     "status": "completed"
    },
    "tags": []
   },
   "source": [
    "## Problem Statement/Overview\n",
    "In this Kaggle competition, we use a set of small images showing microscopic tissue to train a model. This is therefore a classification problem: when the model sees future images of tissue, it should be trained in such a way that it can distinguish between tissues which present visual cues of metastatic cancer, and those which do not. Therefore, this is a binary problem.\n",
    "\n",
    "In this specific dataset, we have over 277K images which are split between about 220K training images, with the rest being assigned to testing. There are no duplicate images in the dataset.\n",
    "\n",
    "Images are provided in .tif format, while a .csv file lists the names of the images (an assortment of alphanumeric characters) and the value of their classification, either a 1 or 0. We look deeper at this in the EDA section. "
   ]
  },
  {
   "cell_type": "code",
   "execution_count": 1,
   "id": "295a8ae9",
   "metadata": {
    "_cell_guid": "b1076dfc-b9ad-4769-8c92-a6c4dae69d19",
    "_uuid": "8f2839f25d086af736a60e9eeb907d3b93b6e0e5",
    "execution": {
     "iopub.execute_input": "2022-10-22T23:20:26.853341Z",
     "iopub.status.busy": "2022-10-22T23:20:26.851117Z",
     "iopub.status.idle": "2022-10-22T23:20:33.746283Z",
     "shell.execute_reply": "2022-10-22T23:20:33.745315Z"
    },
    "papermill": {
     "duration": 6.914472,
     "end_time": "2022-10-22T23:20:33.748892",
     "exception": false,
     "start_time": "2022-10-22T23:20:26.834420",
     "status": "completed"
    },
    "tags": []
   },
   "outputs": [
    {
     "name": "stdout",
     "output_type": "stream",
     "text": [
      "TensorFlow version: 2.6.4\n"
     ]
    }
   ],
   "source": [
    "import numpy as np\n",
    "import pandas as pd\n",
    "import zipfile\n",
    "import os\n",
    "import matplotlib.pyplot as plt\n",
    "import shutil\n",
    "from sklearn.utils import shuffle\n",
    "from sklearn.model_selection import train_test_split\n",
    "import tensorflow as tf\n",
    "import matplotlib.pyplot as plt\n",
    "import io\n",
    "#from tensorflow.distribute import Strategy as strategy\n",
    "print(\"TensorFlow version:\", tf.__version__)\n",
    "from tensorflow.keras import datasets, layers, models, optimizers\n",
    "from tensorflow.keras.preprocessing.image import ImageDataGenerator\n",
    "from skimage.io import imread "
   ]
  },
  {
   "cell_type": "code",
   "execution_count": 2,
   "id": "b4ca2d2a",
   "metadata": {
    "execution": {
     "iopub.execute_input": "2022-10-22T23:20:33.766960Z",
     "iopub.status.busy": "2022-10-22T23:20:33.765480Z",
     "iopub.status.idle": "2022-10-22T23:20:33.779467Z",
     "shell.execute_reply": "2022-10-22T23:20:33.778491Z"
    },
    "papermill": {
     "duration": 0.025536,
     "end_time": "2022-10-22T23:20:33.781925",
     "exception": false,
     "start_time": "2022-10-22T23:20:33.756389",
     "status": "completed"
    },
    "tags": []
   },
   "outputs": [],
   "source": [
    "try:\n",
    "    tpu = tf.distribute.cluster_resolver.TPUClusterResolver()\n",
    "#    print('Device:', tpu.master())\n",
    "    tf.config.experimental_connect_to_cluster(tpu)\n",
    "    tf.tpu.experimental.initialize_tpu_system(tpu)\n",
    "    strategy = tf.distribute.experimental.TPUStrategy(tpu)\n",
    "except:\n",
    "    strategy = tf.distribute.get_strategy()"
   ]
  },
  {
   "cell_type": "code",
   "execution_count": 3,
   "id": "304309ed",
   "metadata": {
    "execution": {
     "iopub.execute_input": "2022-10-22T23:20:33.799730Z",
     "iopub.status.busy": "2022-10-22T23:20:33.798028Z",
     "iopub.status.idle": "2022-10-22T23:20:33.803693Z",
     "shell.execute_reply": "2022-10-22T23:20:33.802652Z"
    },
    "papermill": {
     "duration": 0.01644,
     "end_time": "2022-10-22T23:20:33.805896",
     "exception": false,
     "start_time": "2022-10-22T23:20:33.789456",
     "status": "completed"
    },
    "tags": []
   },
   "outputs": [],
   "source": [
    "PATH = '/kaggle/input/histopathologic-cancer-detection/'"
   ]
  },
  {
   "cell_type": "code",
   "execution_count": 4,
   "id": "52555b1e",
   "metadata": {
    "execution": {
     "iopub.execute_input": "2022-10-22T23:20:33.823453Z",
     "iopub.status.busy": "2022-10-22T23:20:33.822652Z",
     "iopub.status.idle": "2022-10-22T23:20:34.246516Z",
     "shell.execute_reply": "2022-10-22T23:20:34.245565Z"
    },
    "papermill": {
     "duration": 0.435371,
     "end_time": "2022-10-22T23:20:34.248888",
     "exception": false,
     "start_time": "2022-10-22T23:20:33.813517",
     "status": "completed"
    },
    "tags": []
   },
   "outputs": [],
   "source": [
    "test_path = os.path.join(PATH, 'test/')\n",
    "train_path = os.path.join(PATH, 'train/')\n",
    "df_training = pd.read_csv(PATH+'train_labels.csv')"
   ]
  },
  {
   "cell_type": "markdown",
   "id": "22d3727b",
   "metadata": {
    "papermill": {
     "duration": 0.00706,
     "end_time": "2022-10-22T23:20:34.264673",
     "exception": false,
     "start_time": "2022-10-22T23:20:34.257613",
     "status": "completed"
    },
    "tags": []
   },
   "source": [
    "## Exploratory Data Analysis"
   ]
  },
  {
   "cell_type": "markdown",
   "id": "9684a183",
   "metadata": {
    "papermill": {
     "duration": 0.007121,
     "end_time": "2022-10-22T23:20:34.279305",
     "exception": false,
     "start_time": "2022-10-22T23:20:34.272184",
     "status": "completed"
    },
    "tags": []
   },
   "source": [
    "First, let's take a look at the dataset using our .csv file of training images."
   ]
  },
  {
   "cell_type": "code",
   "execution_count": 5,
   "id": "128c6372",
   "metadata": {
    "execution": {
     "iopub.execute_input": "2022-10-22T23:20:34.295659Z",
     "iopub.status.busy": "2022-10-22T23:20:34.295266Z",
     "iopub.status.idle": "2022-10-22T23:20:34.313271Z",
     "shell.execute_reply": "2022-10-22T23:20:34.311511Z"
    },
    "papermill": {
     "duration": 0.029664,
     "end_time": "2022-10-22T23:20:34.316334",
     "exception": false,
     "start_time": "2022-10-22T23:20:34.286670",
     "status": "completed"
    },
    "tags": []
   },
   "outputs": [
    {
     "name": "stdout",
     "output_type": "stream",
     "text": [
      "(220025, 2)\n"
     ]
    },
    {
     "data": {
      "text/html": [
       "<div>\n",
       "<style scoped>\n",
       "    .dataframe tbody tr th:only-of-type {\n",
       "        vertical-align: middle;\n",
       "    }\n",
       "\n",
       "    .dataframe tbody tr th {\n",
       "        vertical-align: top;\n",
       "    }\n",
       "\n",
       "    .dataframe thead th {\n",
       "        text-align: right;\n",
       "    }\n",
       "</style>\n",
       "<table border=\"1\" class=\"dataframe\">\n",
       "  <thead>\n",
       "    <tr style=\"text-align: right;\">\n",
       "      <th></th>\n",
       "      <th>id</th>\n",
       "      <th>label</th>\n",
       "    </tr>\n",
       "  </thead>\n",
       "  <tbody>\n",
       "    <tr>\n",
       "      <th>0</th>\n",
       "      <td>f38a6374c348f90b587e046aac6079959adf3835</td>\n",
       "      <td>0</td>\n",
       "    </tr>\n",
       "    <tr>\n",
       "      <th>1</th>\n",
       "      <td>c18f2d887b7ae4f6742ee445113fa1aef383ed77</td>\n",
       "      <td>1</td>\n",
       "    </tr>\n",
       "    <tr>\n",
       "      <th>2</th>\n",
       "      <td>755db6279dae599ebb4d39a9123cce439965282d</td>\n",
       "      <td>0</td>\n",
       "    </tr>\n",
       "    <tr>\n",
       "      <th>3</th>\n",
       "      <td>bc3f0c64fb968ff4a8bd33af6971ecae77c75e08</td>\n",
       "      <td>0</td>\n",
       "    </tr>\n",
       "    <tr>\n",
       "      <th>4</th>\n",
       "      <td>068aba587a4950175d04c680d38943fd488d6a9d</td>\n",
       "      <td>0</td>\n",
       "    </tr>\n",
       "  </tbody>\n",
       "</table>\n",
       "</div>"
      ],
      "text/plain": [
       "                                         id  label\n",
       "0  f38a6374c348f90b587e046aac6079959adf3835      0\n",
       "1  c18f2d887b7ae4f6742ee445113fa1aef383ed77      1\n",
       "2  755db6279dae599ebb4d39a9123cce439965282d      0\n",
       "3  bc3f0c64fb968ff4a8bd33af6971ecae77c75e08      0\n",
       "4  068aba587a4950175d04c680d38943fd488d6a9d      0"
      ]
     },
     "execution_count": 5,
     "metadata": {},
     "output_type": "execute_result"
    }
   ],
   "source": [
    "print(df_training.shape)\n",
    "df_training.head()"
   ]
  },
  {
   "cell_type": "markdown",
   "id": "a06a5c2c",
   "metadata": {
    "papermill": {
     "duration": 0.007602,
     "end_time": "2022-10-22T23:20:34.332078",
     "exception": false,
     "start_time": "2022-10-22T23:20:34.324476",
     "status": "completed"
    },
    "tags": []
   },
   "source": [
    "We see our training set is 220,025 images, with an ID and a label. These labels indicate whether the training photo shows signes of metastatic cancer or not, with a 1 indicating a positive result. Let's see how our dataset is split."
   ]
  },
  {
   "cell_type": "code",
   "execution_count": 6,
   "id": "d668b3fd",
   "metadata": {
    "execution": {
     "iopub.execute_input": "2022-10-22T23:20:34.351088Z",
     "iopub.status.busy": "2022-10-22T23:20:34.350642Z",
     "iopub.status.idle": "2022-10-22T23:20:34.370639Z",
     "shell.execute_reply": "2022-10-22T23:20:34.369258Z"
    },
    "papermill": {
     "duration": 0.032717,
     "end_time": "2022-10-22T23:20:34.373742",
     "exception": false,
     "start_time": "2022-10-22T23:20:34.341025",
     "status": "completed"
    },
    "tags": []
   },
   "outputs": [
    {
     "name": "stdout",
     "output_type": "stream",
     "text": [
      "0    130908\n",
      "1     89117\n",
      "Name: label, dtype: int64\n",
      "59.5 % images marked 0.\n",
      "40.5 % images marked 1.\n"
     ]
    }
   ],
   "source": [
    "print(df_training.label.value_counts())\n",
    "zero, one = df_training.label.value_counts()\n",
    "print(round((zero/len(df_training))*100,1),\"% images marked 0.\")\n",
    "print(round((one/len(df_training))*100,1),\"% images marked 1.\")"
   ]
  },
  {
   "cell_type": "code",
   "execution_count": 7,
   "id": "aa3d12fe",
   "metadata": {
    "execution": {
     "iopub.execute_input": "2022-10-22T23:20:34.391557Z",
     "iopub.status.busy": "2022-10-22T23:20:34.390558Z",
     "iopub.status.idle": "2022-10-22T23:20:34.622659Z",
     "shell.execute_reply": "2022-10-22T23:20:34.621899Z"
    },
    "papermill": {
     "duration": 0.243186,
     "end_time": "2022-10-22T23:20:34.624754",
     "exception": false,
     "start_time": "2022-10-22T23:20:34.381568",
     "status": "completed"
    },
    "tags": []
   },
   "outputs": [
    {
     "data": {
      "text/plain": [
       "<AxesSubplot:>"
      ]
     },
     "execution_count": 7,
     "metadata": {},
     "output_type": "execute_result"
    },
    {
     "data": {
      "image/png": "[encoded data removed]",
      "text/plain": [
       "<Figure size 432x288 with 1 Axes>"
      ]
     },
     "metadata": {
      "needs_background": "light"
     },
     "output_type": "display_data"
    }
   ],
   "source": [
    "df_training.label.value_counts().plot(kind = 'bar')"
   ]
  },
  {
   "cell_type": "markdown",
   "id": "22a3b8cf",
   "metadata": {
    "papermill": {
     "duration": 0.007519,
     "end_time": "2022-10-22T23:20:34.640239",
     "exception": false,
     "start_time": "2022-10-22T23:20:34.632720",
     "status": "completed"
    },
    "tags": []
   },
   "source": [
    "Now that we've seen what our training data breakdown looks like, let's see what an actual image looks like!"
   ]
  },
  {
   "cell_type": "code",
   "execution_count": 8,
   "id": "6fef3b14",
   "metadata": {
    "execution": {
     "iopub.execute_input": "2022-10-22T23:20:34.657577Z",
     "iopub.status.busy": "2022-10-22T23:20:34.657227Z",
     "iopub.status.idle": "2022-10-22T23:20:35.087892Z",
     "shell.execute_reply": "2022-10-22T23:20:35.086876Z"
    },
    "papermill": {
     "duration": 0.442814,
     "end_time": "2022-10-22T23:20:35.091011",
     "exception": false,
     "start_time": "2022-10-22T23:20:34.648197",
     "status": "completed"
    },
    "tags": []
   },
   "outputs": [
    {
     "name": "stdout",
     "output_type": "stream",
     "text": [
      "                                                  id label\n",
      "216517  8b26151cf6c46429a021f305305a6c0f1c7040a5.tif     1\n",
      "202518  3256bcf8abc0daf70bdf95eae1ff9ac07f3fc61f.tif     0\n",
      "214160  7449033995d8ca6948796f1cf7aaba343bc42a82.tif     0\n",
      "48520   1c9c5f2d9b6265acfcbd761a74dc1528b0335cc9.tif     1\n",
      "156686  13d07c8da325607493f55e1cda77597578f820f2.tif     1\n",
      "...                                              ...   ...\n",
      "206083  22f474a69c129edeb8e2beede529643a1114f22f.tif     0\n",
      "36482   b42c8adb32331a12e7153865bce61da0baabbf56.tif     1\n",
      "40177   f426a587d42d51fe881249d21014d7329ca3ffd3.tif     1\n",
      "150781  01b352f8703c28f742d52e42a95b89a6eb1c54f7.tif     0\n",
      "210763  4f16cc7837f200162462d3bb717bb88a424ef8f1.tif     0\n",
      "\n",
      "[220025 rows x 2 columns]\n"
     ]
    }
   ],
   "source": [
    "## These methods were adapted from the following medium post: https://vijayabhaskar96.medium.com/tutorial-on-keras-flow-from-dataframe-1fd4493d237c\n",
    "\n",
    "def edit_filename(string):\n",
    "    return string+\".tif\"\n",
    "\n",
    "df_training[\"id\"] = df_training[\"id\"].apply(edit_filename)\n",
    "df_training['label'] = df_training['label'].astype(str)\n",
    "\n",
    "df_training = shuffle(df_training, random_state=12)\n",
    "\n",
    "print(df_training)"
   ]
  },
  {
   "cell_type": "code",
   "execution_count": 9,
   "id": "34c276a3",
   "metadata": {
    "execution": {
     "iopub.execute_input": "2022-10-22T23:20:35.117677Z",
     "iopub.status.busy": "2022-10-22T23:20:35.117236Z",
     "iopub.status.idle": "2022-10-22T23:20:35.122965Z",
     "shell.execute_reply": "2022-10-22T23:20:35.121924Z"
    },
    "papermill": {
     "duration": 0.02355,
     "end_time": "2022-10-22T23:20:35.127661",
     "exception": false,
     "start_time": "2022-10-22T23:20:35.104111",
     "status": "completed"
    },
    "tags": []
   },
   "outputs": [],
   "source": [
    "datagen = ImageDataGenerator(rescale=1./255., validation_split=0.2)"
   ]
  },
  {
   "cell_type": "code",
   "execution_count": 10,
   "id": "ee234288",
   "metadata": {
    "execution": {
     "iopub.execute_input": "2022-10-22T23:20:35.157594Z",
     "iopub.status.busy": "2022-10-22T23:20:35.157181Z",
     "iopub.status.idle": "2022-10-22T23:32:07.486387Z",
     "shell.execute_reply": "2022-10-22T23:32:07.485390Z"
    },
    "papermill": {
     "duration": 692.345124,
     "end_time": "2022-10-22T23:32:07.489399",
     "exception": false,
     "start_time": "2022-10-22T23:20:35.144275",
     "status": "completed"
    },
    "tags": []
   },
   "outputs": [
    {
     "name": "stdout",
     "output_type": "stream",
     "text": [
      "Found 176020 validated image filenames belonging to 2 classes.\n"
     ]
    }
   ],
   "source": [
    "with strategy.scope():\n",
    "    training_generator = datagen.flow_from_dataframe(dataframe=df_training, directory=train_path, x_col=\"id\", y_col=\"label\", subset=\"training\", batch_size=128, seed=12, class_mode=\"binary\", target_size=(64,64))"
   ]
  },
  {
   "cell_type": "code",
   "execution_count": 11,
   "id": "23a5822a",
   "metadata": {
    "execution": {
     "iopub.execute_input": "2022-10-22T23:32:07.508920Z",
     "iopub.status.busy": "2022-10-22T23:32:07.508431Z",
     "iopub.status.idle": "2022-10-22T23:33:23.978358Z",
     "shell.execute_reply": "2022-10-22T23:33:23.974882Z"
    },
    "papermill": {
     "duration": 76.48833,
     "end_time": "2022-10-22T23:33:23.986664",
     "exception": false,
     "start_time": "2022-10-22T23:32:07.498334",
     "status": "completed"
    },
    "tags": []
   },
   "outputs": [
    {
     "name": "stdout",
     "output_type": "stream",
     "text": [
      "Found 44005 validated image filenames belonging to 2 classes.\n"
     ]
    }
   ],
   "source": [
    "with strategy.scope():\n",
    "    validation_generator = datagen.flow_from_dataframe(dataframe=df_training, directory=train_path, x_col=\"id\", y_col=\"label\", subset=\"validation\", batch_size=128, seed=12, class_mode=\"binary\", target_size=(64,64))  "
   ]
  },
  {
   "cell_type": "code",
   "execution_count": 12,
   "id": "3601f7f6",
   "metadata": {
    "execution": {
     "iopub.execute_input": "2022-10-22T23:33:24.003633Z",
     "iopub.status.busy": "2022-10-22T23:33:24.003329Z",
     "iopub.status.idle": "2022-10-22T23:33:25.696359Z",
     "shell.execute_reply": "2022-10-22T23:33:25.695452Z"
    },
    "papermill": {
     "duration": 1.703909,
     "end_time": "2022-10-22T23:33:25.698455",
     "exception": false,
     "start_time": "2022-10-22T23:33:23.994546",
     "status": "completed"
    },
    "tags": []
   },
   "outputs": [
    {
     "data": {
      "image/png": "[encoded data removed]",
      "text/plain": [
       "<Figure size 432x288 with 1 Axes>"
      ]
     },
     "metadata": {
      "needs_background": "light"
     },
     "output_type": "display_data"
    },
    {
     "data": {
      "image/png": "[encoded data removed]",
      "text/plain": [
       "<Figure size 432x288 with 1 Axes>"
      ]
     },
     "metadata": {
      "needs_background": "light"
     },
     "output_type": "display_data"
    },
    {
     "data": {
      "image/png": "[encoded data removed]",
      "text/plain": [
       "<Figure size 432x288 with 1 Axes>"
      ]
     },
     "metadata": {
      "needs_background": "light"
     },
     "output_type": "display_data"
    },
    {
     "data": {
      "image/png": "[encoded data removed]",
      "text/plain": [
       "<Figure size 432x288 with 1 Axes>"
      ]
     },
     "metadata": {
      "needs_background": "light"
     },
     "output_type": "display_data"
    }
   ],
   "source": [
    "sample_img = next(iter(training_generator))\n",
    "for i in range(0, 4):\n",
    "    plt.imshow(sample_img[0][i])\n",
    "    plt.show()"
   ]
  },
  {
   "cell_type": "markdown",
   "id": "517526d4",
   "metadata": {
    "papermill": {
     "duration": 0.009122,
     "end_time": "2022-10-22T23:33:25.717594",
     "exception": false,
     "start_time": "2022-10-22T23:33:25.708472",
     "status": "completed"
    },
    "tags": []
   },
   "source": [
    "## Model Architecture\n",
    "Due to the nature of the assignment, I have chosen to use a Convolutional Neural Network (CNN) to classify our test images. Convolution is a useful tactic in dealing with images because, simply put, images have a lot of data (pixel height times pixel length times dimensions, oftentimes three). Because of this, a densely connected network will tend to run slow, and importantly, to overfit. Convolution networks try to overcome these shortcomings.\n",
    "\n",
    "Below, I try out two models. Both are relatively simple, with the first model being more rudimentary."
   ]
  },
  {
   "cell_type": "code",
   "execution_count": 13,
   "id": "75e36863",
   "metadata": {
    "execution": {
     "iopub.execute_input": "2022-10-22T23:33:25.737574Z",
     "iopub.status.busy": "2022-10-22T23:33:25.737241Z",
     "iopub.status.idle": "2022-10-22T23:33:28.564967Z",
     "shell.execute_reply": "2022-10-22T23:33:28.563961Z"
    },
    "papermill": {
     "duration": 2.840913,
     "end_time": "2022-10-22T23:33:28.567748",
     "exception": false,
     "start_time": "2022-10-22T23:33:25.726835",
     "status": "completed"
    },
    "tags": []
   },
   "outputs": [
    {
     "name": "stderr",
     "output_type": "stream",
     "text": [
      "2022-10-22 23:33:25.821498: I tensorflow/stream_executor/cuda/cuda_gpu_executor.cc:937] successful NUMA node read from SysFS had negative value (-1), but there must be at least one NUMA node, so returning NUMA node zero\n",
      "2022-10-22 23:33:25.917337: I tensorflow/stream_executor/cuda/cuda_gpu_executor.cc:937] successful NUMA node read from SysFS had negative value (-1), but there must be at least one NUMA node, so returning NUMA node zero\n",
      "2022-10-22 23:33:25.918190: I tensorflow/stream_executor/cuda/cuda_gpu_executor.cc:937] successful NUMA node read from SysFS had negative value (-1), but there must be at least one NUMA node, so returning NUMA node zero\n",
      "2022-10-22 23:33:25.919792: I tensorflow/core/platform/cpu_feature_guard.cc:142] This TensorFlow binary is optimized with oneAPI Deep Neural Network Library (oneDNN) to use the following CPU instructions in performance-critical operations:  AVX2 AVX512F FMA\n",
      "To enable them in other operations, rebuild TensorFlow with the appropriate compiler flags.\n",
      "2022-10-22 23:33:25.920156: I tensorflow/stream_executor/cuda/cuda_gpu_executor.cc:937] successful NUMA node read from SysFS had negative value (-1), but there must be at least one NUMA node, so returning NUMA node zero\n",
      "2022-10-22 23:33:25.920855: I tensorflow/stream_executor/cuda/cuda_gpu_executor.cc:937] successful NUMA node read from SysFS had negative value (-1), but there must be at least one NUMA node, so returning NUMA node zero\n",
      "2022-10-22 23:33:25.921478: I tensorflow/stream_executor/cuda/cuda_gpu_executor.cc:937] successful NUMA node read from SysFS had negative value (-1), but there must be at least one NUMA node, so returning NUMA node zero\n",
      "2022-10-22 23:33:28.108343: I tensorflow/stream_executor/cuda/cuda_gpu_executor.cc:937] successful NUMA node read from SysFS had negative value (-1), but there must be at least one NUMA node, so returning NUMA node zero\n",
      "2022-10-22 23:33:28.109250: I tensorflow/stream_executor/cuda/cuda_gpu_executor.cc:937] successful NUMA node read from SysFS had negative value (-1), but there must be at least one NUMA node, so returning NUMA node zero\n",
      "2022-10-22 23:33:28.109959: I tensorflow/stream_executor/cuda/cuda_gpu_executor.cc:937] successful NUMA node read from SysFS had negative value (-1), but there must be at least one NUMA node, so returning NUMA node zero\n",
      "2022-10-22 23:33:28.110562: I tensorflow/core/common_runtime/gpu/gpu_device.cc:1510] Created device /job:localhost/replica:0/task:0/device:GPU:0 with 15401 MB memory:  -> device: 0, name: Tesla P100-PCIE-16GB, pci bus id: 0000:00:04.0, compute capability: 6.0\n"
     ]
    }
   ],
   "source": [
    "with strategy.scope():\n",
    "    model = models.Sequential()\n",
    "    model.add(layers.Conv2D(filters=16, kernel_size=(3,3), activation='relu'))\n",
    "    model.add(layers.AveragePooling2D(pool_size=(2,2)))\n",
    "    model.add(layers.Conv2D(filters=16, kernel_size=(3,3), activation='relu'))\n",
    "  #  model.add(layers.MaxPooling2D(pool_size=(2,2)))\n",
    "    model.add(layers.AveragePooling2D(pool_size=(2,2)))\n",
    "    model.add(layers.Conv2D(filters=32, kernel_size=(3,3), activation='relu'))\n",
    "    model.add(layers.AveragePooling2D(pool_size=(2,2)))\n",
    "  #  model.add(layers.Conv2D(filters=32, kernel_size=(3,3), activation='relu'))\n",
    " #   model.add(layers.AveragePooling2D(pool_size=(2,2)))\n",
    "    model.add(layers.Flatten())\n",
    "    model.add(layers.Dense(10, activation='sigmoid'))\n",
    "    model.add(layers.Dense(1, activation='sigmoid'))\n",
    "    model.build(input_shape=(256, 64, 64, 3)) "
   ]
  },
  {
   "cell_type": "markdown",
   "id": "e08500c2",
   "metadata": {
    "papermill": {
     "duration": 0.010861,
     "end_time": "2022-10-22T23:33:28.589276",
     "exception": false,
     "start_time": "2022-10-22T23:33:28.578415",
     "status": "completed"
    },
    "tags": []
   },
   "source": [
    "This first model uses several types of layers. There are four layers that are traditional 2-dimensional convolution layers, which have 16 layers apiece before the pooling layer and 32 filters after the pooling layer. THe kernel size across the board is 3x3, which is the height and width of the convolution window. The activation function specified here is 'relu', although other functions such as 'sigmoid' could also be applied. \n",
    "\n",
    "The pooling layer is used to reduce the data by taking the average value in a given window. Here, we use a pool size of 2x2 in order to effectively sub-sample the input data. \n",
    "\n",
    "In the end, we flatten the data using a flatten layer in order to feed the network into a dense layer, which we can append to the end of a CNN. In this case, we use a sigmoid activation function and we specify that the output should be 1, which is to say, a single dimension.\n",
    "\n",
    "Finally, in this first model, we are going to use a batch size of 256, which is relatively large, in order to loop through our data quickly to get a sense of starting values."
   ]
  },
  {
   "cell_type": "code",
   "execution_count": 14,
   "id": "02894aff",
   "metadata": {
    "execution": {
     "iopub.execute_input": "2022-10-22T23:33:28.613588Z",
     "iopub.status.busy": "2022-10-22T23:33:28.613156Z",
     "iopub.status.idle": "2022-10-22T23:33:28.620327Z",
     "shell.execute_reply": "2022-10-22T23:33:28.619240Z"
    },
    "papermill": {
     "duration": 0.022814,
     "end_time": "2022-10-22T23:33:28.623184",
     "exception": false,
     "start_time": "2022-10-22T23:33:28.600370",
     "status": "completed"
    },
    "tags": []
   },
   "outputs": [
    {
     "name": "stdout",
     "output_type": "stream",
     "text": [
      "Model: \"sequential\"\n",
      "_________________________________________________________________\n",
      "Layer (type)                 Output Shape              Param #   \n",
      "=================================================================\n",
      "conv2d (Conv2D)              (256, 62, 62, 16)         448       \n",
      "_________________________________________________________________\n",
      "average_pooling2d (AveragePo (256, 31, 31, 16)         0         \n",
      "_________________________________________________________________\n",
      "conv2d_1 (Conv2D)            (256, 29, 29, 16)         2320      \n",
      "_________________________________________________________________\n",
      "average_pooling2d_1 (Average (256, 14, 14, 16)         0         \n",
      "_________________________________________________________________\n",
      "conv2d_2 (Conv2D)            (256, 12, 12, 32)         4640      \n",
      "_________________________________________________________________\n",
      "average_pooling2d_2 (Average (256, 6, 6, 32)           0         \n",
      "_________________________________________________________________\n",
      "flatten (Flatten)            (256, 1152)               0         \n",
      "_________________________________________________________________\n",
      "dense (Dense)                (256, 10)                 11530     \n",
      "_________________________________________________________________\n",
      "dense_1 (Dense)              (256, 1)                  11        \n",
      "=================================================================\n",
      "Total params: 18,949\n",
      "Trainable params: 18,949\n",
      "Non-trainable params: 0\n",
      "_________________________________________________________________\n"
     ]
    }
   ],
   "source": [
    "model.summary()"
   ]
  },
  {
   "cell_type": "code",
   "execution_count": 15,
   "id": "cb07100d",
   "metadata": {
    "execution": {
     "iopub.execute_input": "2022-10-22T23:33:28.646176Z",
     "iopub.status.busy": "2022-10-22T23:33:28.645148Z",
     "iopub.status.idle": "2022-10-22T23:33:28.664588Z",
     "shell.execute_reply": "2022-10-22T23:33:28.663630Z"
    },
    "papermill": {
     "duration": 0.033479,
     "end_time": "2022-10-22T23:33:28.667079",
     "exception": false,
     "start_time": "2022-10-22T23:33:28.633600",
     "status": "completed"
    },
    "tags": []
   },
   "outputs": [],
   "source": [
    "with strategy.scope():\n",
    "    model.compile(loss='binary_crossentropy', metrics=['accuracy', tf.keras.metrics.AUC()], optimizer = optimizers.Adam(learning_rate=0.001))"
   ]
  },
  {
   "cell_type": "code",
   "execution_count": 16,
   "id": "4b47ee97",
   "metadata": {
    "execution": {
     "iopub.execute_input": "2022-10-22T23:33:28.690195Z",
     "iopub.status.busy": "2022-10-22T23:33:28.689203Z",
     "iopub.status.idle": "2022-10-23T05:13:48.569020Z",
     "shell.execute_reply": "2022-10-23T05:13:48.567803Z"
    },
    "papermill": {
     "duration": 20424.64247,
     "end_time": "2022-10-23T05:13:53.320081",
     "exception": false,
     "start_time": "2022-10-22T23:33:28.677611",
     "status": "completed"
    },
    "tags": []
   },
   "outputs": [
    {
     "name": "stderr",
     "output_type": "stream",
     "text": [
      "/opt/conda/lib/python3.7/site-packages/keras/engine/training.py:1972: UserWarning: `Model.fit_generator` is deprecated and will be removed in a future version. Please use `Model.fit`, which supports generators.\n",
      "  warnings.warn('`Model.fit_generator` is deprecated and '\n",
      "2022-10-22 23:33:28.927295: I tensorflow/compiler/mlir/mlir_graph_optimization_pass.cc:185] None of the MLIR Optimization Passes are enabled (registered 2)\n"
     ]
    },
    {
     "name": "stdout",
     "output_type": "stream",
     "text": [
      "Epoch 1/60\n"
     ]
    },
    {
     "name": "stderr",
     "output_type": "stream",
     "text": [
      "2022-10-22 23:33:31.901625: I tensorflow/stream_executor/cuda/cuda_dnn.cc:369] Loaded cuDNN version 8005\n"
     ]
    },
    {
     "name": "stdout",
     "output_type": "stream",
     "text": [
      "1376/1376 [==============================] - 1675s 1s/step - loss: 0.4821 - accuracy: 0.7763 - auc: 0.8425 - val_loss: 0.4463 - val_accuracy: 0.7993 - val_auc: 0.8693\n",
      "Epoch 2/60\n",
      "1376/1376 [==============================] - 309s 224ms/step - loss: 0.4335 - accuracy: 0.8062 - auc: 0.8746 - val_loss: 0.4023 - val_accuracy: 0.8223 - val_auc: 0.8940\n",
      "Epoch 3/60\n",
      "1376/1376 [==============================] - 314s 229ms/step - loss: 0.4025 - accuracy: 0.8237 - auc: 0.8929 - val_loss: 0.4541 - val_accuracy: 0.7951 - val_auc: 0.8831\n",
      "Epoch 4/60\n",
      "1376/1376 [==============================] - 303s 220ms/step - loss: 0.3846 - accuracy: 0.8337 - auc: 0.9030 - val_loss: 0.3939 - val_accuracy: 0.8271 - val_auc: 0.9055\n",
      "Epoch 5/60\n",
      "1376/1376 [==============================] - 292s 212ms/step - loss: 0.3698 - accuracy: 0.8400 - auc: 0.9108 - val_loss: 0.3544 - val_accuracy: 0.8484 - val_auc: 0.9194\n",
      "Epoch 6/60\n",
      "1376/1376 [==============================] - 290s 211ms/step - loss: 0.3597 - accuracy: 0.8462 - auc: 0.9157 - val_loss: 0.3500 - val_accuracy: 0.8504 - val_auc: 0.9243\n",
      "Epoch 7/60\n",
      "1376/1376 [==============================] - 291s 211ms/step - loss: 0.3490 - accuracy: 0.8509 - auc: 0.9209 - val_loss: 0.3848 - val_accuracy: 0.8261 - val_auc: 0.9262\n",
      "Epoch 8/60\n",
      "1376/1376 [==============================] - 293s 213ms/step - loss: 0.3395 - accuracy: 0.8552 - auc: 0.9254 - val_loss: 0.3396 - val_accuracy: 0.8536 - val_auc: 0.9298\n",
      "Epoch 9/60\n",
      "1376/1376 [==============================] - 290s 211ms/step - loss: 0.3266 - accuracy: 0.8607 - auc: 0.9310 - val_loss: 0.3207 - val_accuracy: 0.8610 - val_auc: 0.9348\n",
      "Epoch 10/60\n",
      "1376/1376 [==============================] - 305s 222ms/step - loss: 0.3182 - accuracy: 0.8635 - auc: 0.9345 - val_loss: 0.3050 - val_accuracy: 0.8716 - val_auc: 0.9416\n",
      "Epoch 11/60\n",
      "1376/1376 [==============================] - 295s 215ms/step - loss: 0.3093 - accuracy: 0.8690 - auc: 0.9382 - val_loss: 0.3044 - val_accuracy: 0.8689 - val_auc: 0.9447\n",
      "Epoch 12/60\n",
      "1376/1376 [==============================] - 293s 213ms/step - loss: 0.3018 - accuracy: 0.8728 - auc: 0.9412 - val_loss: 0.2972 - val_accuracy: 0.8745 - val_auc: 0.9444\n",
      "Epoch 13/60\n",
      "1376/1376 [==============================] - 297s 216ms/step - loss: 0.2940 - accuracy: 0.8762 - auc: 0.9442 - val_loss: 0.2876 - val_accuracy: 0.8779 - val_auc: 0.9492\n",
      "Epoch 14/60\n",
      "1376/1376 [==============================] - 326s 237ms/step - loss: 0.2851 - accuracy: 0.8814 - auc: 0.9475 - val_loss: 0.2777 - val_accuracy: 0.8843 - val_auc: 0.9508\n",
      "Epoch 15/60\n",
      "1376/1376 [==============================] - 296s 215ms/step - loss: 0.2799 - accuracy: 0.8837 - auc: 0.9494 - val_loss: 0.3019 - val_accuracy: 0.8744 - val_auc: 0.9447\n",
      "Epoch 16/60\n",
      "1376/1376 [==============================] - 300s 218ms/step - loss: 0.2745 - accuracy: 0.8865 - auc: 0.9513 - val_loss: 0.2775 - val_accuracy: 0.8842 - val_auc: 0.9517\n",
      "Epoch 17/60\n",
      "1376/1376 [==============================] - 298s 216ms/step - loss: 0.2691 - accuracy: 0.8890 - auc: 0.9532 - val_loss: 0.2636 - val_accuracy: 0.8898 - val_auc: 0.9574\n",
      "Epoch 18/60\n",
      "1376/1376 [==============================] - 299s 217ms/step - loss: 0.2645 - accuracy: 0.8905 - auc: 0.9548 - val_loss: 0.2594 - val_accuracy: 0.8927 - val_auc: 0.9586\n",
      "Epoch 19/60\n",
      "1376/1376 [==============================] - 303s 220ms/step - loss: 0.2580 - accuracy: 0.8946 - auc: 0.9569 - val_loss: 0.2676 - val_accuracy: 0.8867 - val_auc: 0.9562\n",
      "Epoch 20/60\n",
      "1376/1376 [==============================] - 298s 217ms/step - loss: 0.2556 - accuracy: 0.8955 - auc: 0.9577 - val_loss: 0.3134 - val_accuracy: 0.8641 - val_auc: 0.9479\n",
      "Epoch 21/60\n",
      "1376/1376 [==============================] - 300s 218ms/step - loss: 0.2509 - accuracy: 0.8971 - auc: 0.9592 - val_loss: 0.2610 - val_accuracy: 0.8913 - val_auc: 0.9577\n",
      "Epoch 22/60\n",
      "1376/1376 [==============================] - 304s 221ms/step - loss: 0.2488 - accuracy: 0.8984 - auc: 0.9599 - val_loss: 0.2441 - val_accuracy: 0.9003 - val_auc: 0.9621\n",
      "Epoch 23/60\n",
      "1376/1376 [==============================] - 299s 218ms/step - loss: 0.2456 - accuracy: 0.8997 - auc: 0.9610 - val_loss: 0.2432 - val_accuracy: 0.9008 - val_auc: 0.9626\n",
      "Epoch 24/60\n",
      "1376/1376 [==============================] - 304s 221ms/step - loss: 0.2391 - accuracy: 0.9023 - auc: 0.9630 - val_loss: 0.2564 - val_accuracy: 0.8951 - val_auc: 0.9611\n",
      "Epoch 25/60\n",
      "1376/1376 [==============================] - 309s 224ms/step - loss: 0.2397 - accuracy: 0.9023 - auc: 0.9628 - val_loss: 0.2637 - val_accuracy: 0.8903 - val_auc: 0.9623\n",
      "Epoch 26/60\n",
      "1376/1376 [==============================] - 305s 221ms/step - loss: 0.2356 - accuracy: 0.9041 - auc: 0.9640 - val_loss: 0.3148 - val_accuracy: 0.8652 - val_auc: 0.9557\n",
      "Epoch 27/60\n",
      "1376/1376 [==============================] - 304s 221ms/step - loss: 0.2345 - accuracy: 0.9048 - auc: 0.9643 - val_loss: 0.2304 - val_accuracy: 0.9068 - val_auc: 0.9656\n",
      "Epoch 28/60\n",
      "1376/1376 [==============================] - 308s 224ms/step - loss: 0.2308 - accuracy: 0.9068 - auc: 0.9655 - val_loss: 0.2352 - val_accuracy: 0.9038 - val_auc: 0.9648\n",
      "Epoch 29/60\n",
      "1376/1376 [==============================] - 307s 223ms/step - loss: 0.2280 - accuracy: 0.9069 - auc: 0.9663 - val_loss: 0.2363 - val_accuracy: 0.9058 - val_auc: 0.9636\n",
      "Epoch 30/60\n",
      "1376/1376 [==============================] - 316s 230ms/step - loss: 0.2275 - accuracy: 0.9084 - auc: 0.9663 - val_loss: 0.2576 - val_accuracy: 0.8928 - val_auc: 0.9584\n",
      "Epoch 31/60\n",
      "1376/1376 [==============================] - 314s 228ms/step - loss: 0.2245 - accuracy: 0.9091 - auc: 0.9672 - val_loss: 0.2200 - val_accuracy: 0.9117 - val_auc: 0.9688\n",
      "Epoch 32/60\n",
      "1376/1376 [==============================] - 308s 224ms/step - loss: 0.2225 - accuracy: 0.9105 - auc: 0.9678 - val_loss: 0.2340 - val_accuracy: 0.9049 - val_auc: 0.9661\n",
      "Epoch 33/60\n",
      "1376/1376 [==============================] - 310s 225ms/step - loss: 0.2208 - accuracy: 0.9111 - auc: 0.9683 - val_loss: 0.2304 - val_accuracy: 0.9071 - val_auc: 0.9659\n",
      "Epoch 34/60\n",
      "1376/1376 [==============================] - 315s 229ms/step - loss: 0.2190 - accuracy: 0.9117 - auc: 0.9689 - val_loss: 0.2256 - val_accuracy: 0.9090 - val_auc: 0.9675\n",
      "Epoch 35/60\n",
      "1376/1376 [==============================] - 313s 227ms/step - loss: 0.2162 - accuracy: 0.9123 - auc: 0.9695 - val_loss: 0.2210 - val_accuracy: 0.9100 - val_auc: 0.9693\n",
      "Epoch 36/60\n",
      "1376/1376 [==============================] - 315s 229ms/step - loss: 0.2158 - accuracy: 0.9135 - auc: 0.9697 - val_loss: 0.2420 - val_accuracy: 0.8987 - val_auc: 0.9644\n",
      "Epoch 37/60\n",
      "1376/1376 [==============================] - 320s 232ms/step - loss: 0.2135 - accuracy: 0.9144 - auc: 0.9703 - val_loss: 0.2208 - val_accuracy: 0.9109 - val_auc: 0.9688\n",
      "Epoch 38/60\n",
      "1376/1376 [==============================] - 315s 229ms/step - loss: 0.2114 - accuracy: 0.9154 - auc: 0.9709 - val_loss: 0.2342 - val_accuracy: 0.9048 - val_auc: 0.9679\n",
      "Epoch 39/60\n",
      "1376/1376 [==============================] - 315s 229ms/step - loss: 0.2102 - accuracy: 0.9163 - auc: 0.9712 - val_loss: 0.2281 - val_accuracy: 0.9068 - val_auc: 0.9679\n",
      "Epoch 40/60\n",
      "1376/1376 [==============================] - 319s 232ms/step - loss: 0.2080 - accuracy: 0.9167 - auc: 0.9719 - val_loss: 0.2239 - val_accuracy: 0.9086 - val_auc: 0.9689\n",
      "Epoch 41/60\n",
      "1376/1376 [==============================] - 322s 234ms/step - loss: 0.2067 - accuracy: 0.9173 - auc: 0.9722 - val_loss: 0.2277 - val_accuracy: 0.9086 - val_auc: 0.9671\n",
      "Epoch 42/60\n",
      "1376/1376 [==============================] - 319s 232ms/step - loss: 0.2050 - accuracy: 0.9178 - auc: 0.9726 - val_loss: 0.2194 - val_accuracy: 0.9111 - val_auc: 0.9697\n",
      "Epoch 43/60\n",
      "1376/1376 [==============================] - 316s 230ms/step - loss: 0.2053 - accuracy: 0.9179 - auc: 0.9725 - val_loss: 0.2301 - val_accuracy: 0.9062 - val_auc: 0.9659\n",
      "Epoch 44/60\n",
      "1376/1376 [==============================] - 335s 244ms/step - loss: 0.2052 - accuracy: 0.9177 - auc: 0.9726 - val_loss: 0.2203 - val_accuracy: 0.9108 - val_auc: 0.9691\n",
      "Epoch 45/60\n",
      "1376/1376 [==============================] - 323s 235ms/step - loss: 0.2021 - accuracy: 0.9189 - auc: 0.9733 - val_loss: 0.2134 - val_accuracy: 0.9139 - val_auc: 0.9708\n",
      "Epoch 46/60\n",
      "1376/1376 [==============================] - 320s 233ms/step - loss: 0.1992 - accuracy: 0.9205 - auc: 0.9741 - val_loss: 0.2198 - val_accuracy: 0.9130 - val_auc: 0.9697\n",
      "Epoch 47/60\n",
      "1376/1376 [==============================] - 318s 231ms/step - loss: 0.1984 - accuracy: 0.9214 - auc: 0.9743 - val_loss: 0.2476 - val_accuracy: 0.8991 - val_auc: 0.9679\n",
      "Epoch 48/60\n",
      "1376/1376 [==============================] - 322s 234ms/step - loss: 0.1987 - accuracy: 0.9211 - auc: 0.9743 - val_loss: 0.2128 - val_accuracy: 0.9148 - val_auc: 0.9705\n",
      "Epoch 49/60\n",
      "1376/1376 [==============================] - 315s 229ms/step - loss: 0.1969 - accuracy: 0.9218 - auc: 0.9747 - val_loss: 0.2187 - val_accuracy: 0.9129 - val_auc: 0.9689\n",
      "Epoch 50/60\n",
      "1376/1376 [==============================] - 309s 224ms/step - loss: 0.1952 - accuracy: 0.9222 - auc: 0.9751 - val_loss: 0.2217 - val_accuracy: 0.9109 - val_auc: 0.9684\n",
      "Epoch 51/60\n",
      "1376/1376 [==============================] - 304s 221ms/step - loss: 0.1962 - accuracy: 0.9219 - auc: 0.9748 - val_loss: 0.2136 - val_accuracy: 0.9156 - val_auc: 0.9705\n",
      "Epoch 52/60\n",
      "1376/1376 [==============================] - 314s 228ms/step - loss: 0.1944 - accuracy: 0.9225 - auc: 0.9754 - val_loss: 0.2273 - val_accuracy: 0.9102 - val_auc: 0.9684\n",
      "Epoch 53/60\n",
      "1376/1376 [==============================] - 313s 228ms/step - loss: 0.1915 - accuracy: 0.9242 - auc: 0.9761 - val_loss: 0.2293 - val_accuracy: 0.9100 - val_auc: 0.9668\n",
      "Epoch 54/60\n",
      "1376/1376 [==============================] - 336s 244ms/step - loss: 0.1927 - accuracy: 0.9231 - auc: 0.9758 - val_loss: 0.2234 - val_accuracy: 0.9104 - val_auc: 0.9689\n",
      "Epoch 55/60\n",
      "1376/1376 [==============================] - 322s 234ms/step - loss: 0.1904 - accuracy: 0.9241 - auc: 0.9763 - val_loss: 0.2183 - val_accuracy: 0.9131 - val_auc: 0.9690\n",
      "Epoch 56/60\n",
      "1376/1376 [==============================] - 329s 239ms/step - loss: 0.1894 - accuracy: 0.9250 - auc: 0.9765 - val_loss: 0.2204 - val_accuracy: 0.9110 - val_auc: 0.9690\n",
      "Epoch 57/60\n",
      "1376/1376 [==============================] - 309s 225ms/step - loss: 0.1885 - accuracy: 0.9251 - auc: 0.9768 - val_loss: 0.2214 - val_accuracy: 0.9109 - val_auc: 0.9695\n",
      "Epoch 58/60\n",
      "1376/1376 [==============================] - 305s 221ms/step - loss: 0.1885 - accuracy: 0.9247 - auc: 0.9768 - val_loss: 0.2160 - val_accuracy: 0.9146 - val_auc: 0.9704\n",
      "Epoch 59/60\n",
      "1376/1376 [==============================] - 303s 221ms/step - loss: 0.1872 - accuracy: 0.9253 - auc: 0.9771 - val_loss: 0.2311 - val_accuracy: 0.9065 - val_auc: 0.9671\n",
      "Epoch 60/60\n",
      "1376/1376 [==============================] - 307s 223ms/step - loss: 0.1863 - accuracy: 0.9264 - auc: 0.9773 - val_loss: 0.2407 - val_accuracy: 0.9032 - val_auc: 0.9666\n"
     ]
    }
   ],
   "source": [
    "#with strategy.scope():\n",
    "history = model.fit_generator(training_generator, epochs=60, validation_data = validation_generator)"
   ]
  },
  {
   "cell_type": "code",
   "execution_count": 17,
   "id": "81bd15ff",
   "metadata": {
    "execution": {
     "iopub.execute_input": "2022-10-23T05:14:03.264013Z",
     "iopub.status.busy": "2022-10-23T05:14:03.263620Z",
     "iopub.status.idle": "2022-10-23T05:14:03.478366Z",
     "shell.execute_reply": "2022-10-23T05:14:03.477480Z"
    },
    "papermill": {
     "duration": 4.831789,
     "end_time": "2022-10-23T05:14:03.480448",
     "exception": false,
     "start_time": "2022-10-23T05:13:58.648659",
     "status": "completed"
    },
    "tags": []
   },
   "outputs": [
    {
     "data": {
      "image/png": "[encoded data removed]",
      "text/plain": [
       "<Figure size 432x288 with 1 Axes>"
      ]
     },
     "metadata": {
      "needs_background": "light"
     },
     "output_type": "display_data"
    }
   ],
   "source": [
    "plt.plot(history.history['accuracy'])\n",
    "plt.plot(history.history['val_accuracy'])\n",
    "plt.title('Model Accuracy')\n",
    "plt.ylabel('accuracy')\n",
    "plt.xlabel('epoch')\n",
    "plt.legend(['train', 'validate'])\n",
    "plt.show()"
   ]
  },
  {
   "cell_type": "markdown",
   "id": "d51c6433",
   "metadata": {
    "papermill": {
     "duration": 5.38552,
     "end_time": "2022-10-23T05:14:14.093131",
     "exception": false,
     "start_time": "2022-10-23T05:14:08.707611",
     "status": "completed"
    },
    "tags": []
   },
   "source": [
    "Okay, after that first model, we're going to try a second model that has far more parameters, but try to also keep it somewhat reasonable given resource constraints.\n",
    "\n",
    "Similar to the first model, we're going to have convolutional layers followed by pooling layers. Here, we're going to pair convolutional layers followed by a max pooling layer, a batch normalization layer, and a dropout layer. Both of these last two layer types can help with regularization, as we learned in lecture. We are going to have three sets of these layer types.\n",
    "\n",
    "We will finish with an extra dense layer, again with a dropout layer to keep our parameter number under control. Finally, at the compile step, I'm using the Nadam optimizer and specifying the learning rate at 0.0001. Again, we're going to run for 60 epochs (since a previous version of a similar model did not converge over 40 epochs). \n",
    "\n",
    "Here we go!"
   ]
  },
  {
   "cell_type": "code",
   "execution_count": 18,
   "id": "bf18b6a0",
   "metadata": {
    "execution": {
     "iopub.execute_input": "2022-10-23T05:14:24.139209Z",
     "iopub.status.busy": "2022-10-23T05:14:24.138743Z",
     "iopub.status.idle": "2022-10-23T05:15:45.304761Z",
     "shell.execute_reply": "2022-10-23T05:15:45.303756Z"
    },
    "papermill": {
     "duration": 91.312764,
     "end_time": "2022-10-23T05:15:50.272366",
     "exception": false,
     "start_time": "2022-10-23T05:14:18.959602",
     "status": "completed"
    },
    "tags": []
   },
   "outputs": [
    {
     "name": "stdout",
     "output_type": "stream",
     "text": [
      "Found 176020 validated image filenames belonging to 2 classes.\n"
     ]
    }
   ],
   "source": [
    "with strategy.scope():\n",
    "    training_generator = datagen.flow_from_dataframe(dataframe=df_training, directory=train_path, x_col=\"id\", y_col=\"label\", subset=\"training\", batch_size=256, seed=12, class_mode=\"binary\", target_size=(64,64))"
   ]
  },
  {
   "cell_type": "code",
   "execution_count": 19,
   "id": "02aa9e77",
   "metadata": {
    "execution": {
     "iopub.execute_input": "2022-10-23T05:16:00.108606Z",
     "iopub.status.busy": "2022-10-23T05:16:00.108220Z",
     "iopub.status.idle": "2022-10-23T05:17:29.467156Z",
     "shell.execute_reply": "2022-10-23T05:17:29.466079Z"
    },
    "papermill": {
     "duration": 99.247561,
     "end_time": "2022-10-23T05:17:34.312428",
     "exception": false,
     "start_time": "2022-10-23T05:15:55.064867",
     "status": "completed"
    },
    "tags": []
   },
   "outputs": [
    {
     "name": "stdout",
     "output_type": "stream",
     "text": [
      "Found 44005 validated image filenames belonging to 2 classes.\n"
     ]
    }
   ],
   "source": [
    "with strategy.scope():\n",
    "    validation_generator = datagen.flow_from_dataframe(dataframe=df_training, directory=train_path, x_col=\"id\", y_col=\"label\", subset=\"validation\", batch_size=256, seed=12, class_mode=\"binary\", target_size=(64,64))  "
   ]
  },
  {
   "cell_type": "code",
   "execution_count": 20,
   "id": "8d496607",
   "metadata": {
    "execution": {
     "iopub.execute_input": "2022-10-23T05:17:44.236813Z",
     "iopub.status.busy": "2022-10-23T05:17:44.236405Z",
     "iopub.status.idle": "2022-10-23T05:17:44.399757Z",
     "shell.execute_reply": "2022-10-23T05:17:44.398402Z"
    },
    "papermill": {
     "duration": 4.873764,
     "end_time": "2022-10-23T05:17:44.403051",
     "exception": false,
     "start_time": "2022-10-23T05:17:39.529287",
     "status": "completed"
    },
    "tags": []
   },
   "outputs": [],
   "source": [
    "with strategy.scope():\n",
    "    model_v2 = models.Sequential()\n",
    "    model_v2.add(layers.Conv2D(filters=16, kernel_size=(3,3), activation='relu'))\n",
    "    model_v2.add(layers.Conv2D(filters=16, kernel_size=(3,3), activation='relu'))\n",
    "    model_v2.add(layers.MaxPooling2D(pool_size=(2,2)))\n",
    "    model_v2.add(layers.BatchNormalization())\n",
    "    model_v2.add(layers.Dropout(0.25))\n",
    "    \n",
    "    model_v2.add(layers.Conv2D(filters=32, kernel_size=(3,3), activation='relu'))\n",
    "    model_v2.add(layers.Conv2D(filters=32, kernel_size=(3,3), activation='relu'))\n",
    "    model_v2.add(layers.MaxPooling2D(pool_size=(2,2)))\n",
    "    model_v2.add(layers.BatchNormalization())\n",
    "    model_v2.add(layers.Dropout(0.25))\n",
    "    \n",
    "    model_v2.add(layers.Conv2D(filters=64, kernel_size=(3,3), activation='relu'))\n",
    "    model_v2.add(layers.Conv2D(filters=64, kernel_size=(3,3), activation='relu'))\n",
    "    model_v2.add(layers.MaxPooling2D(pool_size=(2,2)))\n",
    "    model_v2.add(layers.BatchNormalization())\n",
    "    model_v2.add(layers.Dropout(0.25))\n",
    "    \n",
    "    model_v2.add(layers.Flatten())\n",
    "    model_v2.add(layers.Dense(10, activation='sigmoid'))\n",
    "    model_v2.add(layers.Dropout(0.25))\n",
    "    model_v2.add(layers.Dense(1, activation='sigmoid'))\n",
    "    model_v2.build(input_shape=(256, 64, 64, 3)) "
   ]
  },
  {
   "cell_type": "code",
   "execution_count": 21,
   "id": "a96c415c",
   "metadata": {
    "execution": {
     "iopub.execute_input": "2022-10-23T05:17:54.872818Z",
     "iopub.status.busy": "2022-10-23T05:17:54.872426Z",
     "iopub.status.idle": "2022-10-23T05:17:54.880217Z",
     "shell.execute_reply": "2022-10-23T05:17:54.879088Z"
    },
    "papermill": {
     "duration": 5.28939,
     "end_time": "2022-10-23T05:17:54.883285",
     "exception": false,
     "start_time": "2022-10-23T05:17:49.593895",
     "status": "completed"
    },
    "tags": []
   },
   "outputs": [
    {
     "name": "stdout",
     "output_type": "stream",
     "text": [
      "Model: \"sequential_1\"\n",
      "_________________________________________________________________\n",
      "Layer (type)                 Output Shape              Param #   \n",
      "=================================================================\n",
      "conv2d_3 (Conv2D)            (256, 62, 62, 16)         448       \n",
      "_________________________________________________________________\n",
      "conv2d_4 (Conv2D)            (256, 60, 60, 16)         2320      \n",
      "_________________________________________________________________\n",
      "max_pooling2d (MaxPooling2D) (256, 30, 30, 16)         0         \n",
      "_________________________________________________________________\n",
      "batch_normalization (BatchNo (256, 30, 30, 16)         64        \n",
      "_________________________________________________________________\n",
      "dropout (Dropout)            (256, 30, 30, 16)         0         \n",
      "_________________________________________________________________\n",
      "conv2d_5 (Conv2D)            (256, 28, 28, 32)         4640      \n",
      "_________________________________________________________________\n",
      "conv2d_6 (Conv2D)            (256, 26, 26, 32)         9248      \n",
      "_________________________________________________________________\n",
      "max_pooling2d_1 (MaxPooling2 (256, 13, 13, 32)         0         \n",
      "_________________________________________________________________\n",
      "batch_normalization_1 (Batch (256, 13, 13, 32)         128       \n",
      "_________________________________________________________________\n",
      "dropout_1 (Dropout)          (256, 13, 13, 32)         0         \n",
      "_________________________________________________________________\n",
      "conv2d_7 (Conv2D)            (256, 11, 11, 64)         18496     \n",
      "_________________________________________________________________\n",
      "conv2d_8 (Conv2D)            (256, 9, 9, 64)           36928     \n",
      "_________________________________________________________________\n",
      "max_pooling2d_2 (MaxPooling2 (256, 4, 4, 64)           0         \n",
      "_________________________________________________________________\n",
      "batch_normalization_2 (Batch (256, 4, 4, 64)           256       \n",
      "_________________________________________________________________\n",
      "dropout_2 (Dropout)          (256, 4, 4, 64)           0         \n",
      "_________________________________________________________________\n",
      "flatten_1 (Flatten)          (256, 1024)               0         \n",
      "_________________________________________________________________\n",
      "dense_2 (Dense)              (256, 10)                 10250     \n",
      "_________________________________________________________________\n",
      "dropout_3 (Dropout)          (256, 10)                 0         \n",
      "_________________________________________________________________\n",
      "dense_3 (Dense)              (256, 1)                  11        \n",
      "=================================================================\n",
      "Total params: 82,789\n",
      "Trainable params: 82,565\n",
      "Non-trainable params: 224\n",
      "_________________________________________________________________\n"
     ]
    }
   ],
   "source": [
    "model_v2.summary()"
   ]
  },
  {
   "cell_type": "code",
   "execution_count": 22,
   "id": "e6ecfbbb",
   "metadata": {
    "execution": {
     "iopub.execute_input": "2022-10-23T05:18:04.937767Z",
     "iopub.status.busy": "2022-10-23T05:18:04.937376Z",
     "iopub.status.idle": "2022-10-23T05:18:04.966938Z",
     "shell.execute_reply": "2022-10-23T05:18:04.966031Z"
    },
    "papermill": {
     "duration": 4.858093,
     "end_time": "2022-10-23T05:18:04.969115",
     "exception": false,
     "start_time": "2022-10-23T05:18:00.111022",
     "status": "completed"
    },
    "tags": []
   },
   "outputs": [],
   "source": [
    "with strategy.scope():\n",
    "    model_v2.compile(loss='binary_crossentropy', metrics=['accuracy', tf.keras.metrics.AUC()], optimizer = optimizers.Nadam(learning_rate=0.0001))"
   ]
  },
  {
   "cell_type": "code",
   "execution_count": 23,
   "id": "7c996c52",
   "metadata": {
    "execution": {
     "iopub.execute_input": "2022-10-23T05:18:14.953278Z",
     "iopub.status.busy": "2022-10-23T05:18:14.952825Z",
     "iopub.status.idle": "2022-10-23T10:33:11.612554Z",
     "shell.execute_reply": "2022-10-23T10:33:11.611391Z"
    },
    "papermill": {
     "duration": 18909.482186,
     "end_time": "2022-10-23T10:33:19.495478",
     "exception": false,
     "start_time": "2022-10-23T05:18:10.013292",
     "status": "completed"
    },
    "tags": []
   },
   "outputs": [
    {
     "name": "stdout",
     "output_type": "stream",
     "text": [
      "Epoch 1/60\n",
      "688/688 [==============================] - 317s 458ms/step - loss: 0.4964 - accuracy: 0.7793 - auc_1: 0.8362 - val_loss: 0.4852 - val_accuracy: 0.7760 - val_auc_1: 0.8517\n",
      "Epoch 2/60\n",
      "688/688 [==============================] - 311s 452ms/step - loss: 0.4364 - accuracy: 0.8188 - auc_1: 0.8758 - val_loss: 0.4464 - val_accuracy: 0.8118 - val_auc_1: 0.8884\n",
      "Epoch 3/60\n",
      "688/688 [==============================] - 306s 445ms/step - loss: 0.4100 - accuracy: 0.8330 - auc_1: 0.8906 - val_loss: 0.4334 - val_accuracy: 0.8180 - val_auc_1: 0.8905\n",
      "Epoch 4/60\n",
      "688/688 [==============================] - 315s 458ms/step - loss: 0.3903 - accuracy: 0.8422 - auc_1: 0.9012 - val_loss: 0.3979 - val_accuracy: 0.8325 - val_auc_1: 0.9070\n",
      "Epoch 5/60\n",
      "688/688 [==============================] - 303s 441ms/step - loss: 0.3769 - accuracy: 0.8481 - auc_1: 0.9080 - val_loss: 0.3973 - val_accuracy: 0.8287 - val_auc_1: 0.9123\n",
      "Epoch 6/60\n",
      "688/688 [==============================] - 300s 435ms/step - loss: 0.3634 - accuracy: 0.8540 - auc_1: 0.9148 - val_loss: 0.3915 - val_accuracy: 0.8306 - val_auc_1: 0.9153\n",
      "Epoch 7/60\n",
      "688/688 [==============================] - 327s 475ms/step - loss: 0.3519 - accuracy: 0.8591 - auc_1: 0.9201 - val_loss: 0.3795 - val_accuracy: 0.8372 - val_auc_1: 0.9194\n",
      "Epoch 8/60\n",
      "688/688 [==============================] - 318s 462ms/step - loss: 0.3411 - accuracy: 0.8644 - auc_1: 0.9250 - val_loss: 0.4150 - val_accuracy: 0.8148 - val_auc_1: 0.9159\n",
      "Epoch 9/60\n",
      "688/688 [==============================] - 309s 449ms/step - loss: 0.3320 - accuracy: 0.8686 - auc_1: 0.9289 - val_loss: 0.3251 - val_accuracy: 0.8700 - val_auc_1: 0.9335\n",
      "Epoch 10/60\n",
      "688/688 [==============================] - 308s 448ms/step - loss: 0.3227 - accuracy: 0.8715 - auc_1: 0.9329 - val_loss: 0.3102 - val_accuracy: 0.8772 - val_auc_1: 0.9399\n",
      "Epoch 11/60\n",
      "688/688 [==============================] - 302s 439ms/step - loss: 0.3131 - accuracy: 0.8762 - auc_1: 0.9369 - val_loss: 0.3219 - val_accuracy: 0.8684 - val_auc_1: 0.9371\n",
      "Epoch 12/60\n",
      "688/688 [==============================] - 309s 450ms/step - loss: 0.3074 - accuracy: 0.8794 - auc_1: 0.9389 - val_loss: 0.3076 - val_accuracy: 0.8776 - val_auc_1: 0.9405\n",
      "Epoch 13/60\n",
      "688/688 [==============================] - 307s 446ms/step - loss: 0.3020 - accuracy: 0.8818 - auc_1: 0.9412 - val_loss: 0.2785 - val_accuracy: 0.8897 - val_auc_1: 0.9519\n",
      "Epoch 14/60\n",
      "688/688 [==============================] - 309s 449ms/step - loss: 0.2963 - accuracy: 0.8839 - auc_1: 0.9432 - val_loss: 0.2916 - val_accuracy: 0.8836 - val_auc_1: 0.9460\n",
      "Epoch 15/60\n",
      "688/688 [==============================] - 306s 445ms/step - loss: 0.2905 - accuracy: 0.8863 - auc_1: 0.9455 - val_loss: 0.4194 - val_accuracy: 0.8308 - val_auc_1: 0.9356\n",
      "Epoch 16/60\n",
      "688/688 [==============================] - 310s 450ms/step - loss: 0.2862 - accuracy: 0.8882 - auc_1: 0.9471 - val_loss: 0.2917 - val_accuracy: 0.8773 - val_auc_1: 0.9506\n",
      "Epoch 17/60\n",
      "688/688 [==============================] - 316s 458ms/step - loss: 0.2821 - accuracy: 0.8901 - auc_1: 0.9486 - val_loss: 0.3132 - val_accuracy: 0.8723 - val_auc_1: 0.9428\n",
      "Epoch 18/60\n",
      "688/688 [==============================] - 309s 450ms/step - loss: 0.2793 - accuracy: 0.8905 - auc_1: 0.9497 - val_loss: 0.3075 - val_accuracy: 0.8778 - val_auc_1: 0.9431\n",
      "Epoch 19/60\n",
      "688/688 [==============================] - 315s 457ms/step - loss: 0.2748 - accuracy: 0.8922 - auc_1: 0.9512 - val_loss: 0.3219 - val_accuracy: 0.8668 - val_auc_1: 0.9456\n",
      "Epoch 20/60\n",
      "688/688 [==============================] - 308s 447ms/step - loss: 0.2715 - accuracy: 0.8941 - auc_1: 0.9525 - val_loss: 0.4184 - val_accuracy: 0.8381 - val_auc_1: 0.9239\n",
      "Epoch 21/60\n",
      "688/688 [==============================] - 303s 441ms/step - loss: 0.2703 - accuracy: 0.8941 - auc_1: 0.9529 - val_loss: 0.3285 - val_accuracy: 0.8641 - val_auc_1: 0.9417\n",
      "Epoch 22/60\n",
      "688/688 [==============================] - 306s 444ms/step - loss: 0.2676 - accuracy: 0.8945 - auc_1: 0.9538 - val_loss: 0.2684 - val_accuracy: 0.8946 - val_auc_1: 0.9553\n",
      "Epoch 23/60\n",
      "688/688 [==============================] - 301s 438ms/step - loss: 0.2637 - accuracy: 0.8969 - auc_1: 0.9552 - val_loss: 0.3968 - val_accuracy: 0.8408 - val_auc_1: 0.9326\n",
      "Epoch 24/60\n",
      "688/688 [==============================] - 308s 447ms/step - loss: 0.2625 - accuracy: 0.8973 - auc_1: 0.9554 - val_loss: 0.2803 - val_accuracy: 0.8932 - val_auc_1: 0.9526\n",
      "Epoch 25/60\n",
      "688/688 [==============================] - 301s 437ms/step - loss: 0.2591 - accuracy: 0.8988 - auc_1: 0.9566 - val_loss: 0.3846 - val_accuracy: 0.8419 - val_auc_1: 0.9398\n",
      "Epoch 26/60\n",
      "688/688 [==============================] - 318s 462ms/step - loss: 0.2565 - accuracy: 0.8996 - auc_1: 0.9575 - val_loss: 0.3346 - val_accuracy: 0.8679 - val_auc_1: 0.9520\n",
      "Epoch 27/60\n",
      "688/688 [==============================] - 313s 455ms/step - loss: 0.2557 - accuracy: 0.9001 - auc_1: 0.9578 - val_loss: 0.3112 - val_accuracy: 0.8769 - val_auc_1: 0.9473\n",
      "Epoch 28/60\n",
      "688/688 [==============================] - 308s 448ms/step - loss: 0.2523 - accuracy: 0.9022 - auc_1: 0.9590 - val_loss: 0.3803 - val_accuracy: 0.8459 - val_auc_1: 0.9437\n",
      "Epoch 29/60\n",
      "688/688 [==============================] - 303s 441ms/step - loss: 0.2505 - accuracy: 0.9025 - auc_1: 0.9596 - val_loss: 0.3521 - val_accuracy: 0.8537 - val_auc_1: 0.9467\n",
      "Epoch 30/60\n",
      "688/688 [==============================] - 301s 438ms/step - loss: 0.2496 - accuracy: 0.9034 - auc_1: 0.9598 - val_loss: 0.3302 - val_accuracy: 0.8709 - val_auc_1: 0.9437\n",
      "Epoch 31/60\n",
      "688/688 [==============================] - 308s 448ms/step - loss: 0.2481 - accuracy: 0.9031 - auc_1: 0.9603 - val_loss: 0.2569 - val_accuracy: 0.8929 - val_auc_1: 0.9627\n",
      "Epoch 32/60\n",
      "688/688 [==============================] - 313s 455ms/step - loss: 0.2454 - accuracy: 0.9041 - auc_1: 0.9612 - val_loss: 0.3969 - val_accuracy: 0.8454 - val_auc_1: 0.9503\n",
      "Epoch 33/60\n",
      "688/688 [==============================] - 311s 453ms/step - loss: 0.2453 - accuracy: 0.9045 - auc_1: 0.9613 - val_loss: 0.2819 - val_accuracy: 0.8926 - val_auc_1: 0.9517\n",
      "Epoch 34/60\n",
      "688/688 [==============================] - 314s 456ms/step - loss: 0.2436 - accuracy: 0.9049 - auc_1: 0.9618 - val_loss: 0.3676 - val_accuracy: 0.8580 - val_auc_1: 0.9402\n",
      "Epoch 35/60\n",
      "688/688 [==============================] - 307s 447ms/step - loss: 0.2419 - accuracy: 0.9057 - auc_1: 0.9624 - val_loss: 0.2409 - val_accuracy: 0.9024 - val_auc_1: 0.9637\n",
      "Epoch 36/60\n",
      "688/688 [==============================] - 307s 447ms/step - loss: 0.2394 - accuracy: 0.9067 - auc_1: 0.9631 - val_loss: 0.2438 - val_accuracy: 0.9048 - val_auc_1: 0.9638\n",
      "Epoch 37/60\n",
      "688/688 [==============================] - 307s 447ms/step - loss: 0.2381 - accuracy: 0.9071 - auc_1: 0.9636 - val_loss: 0.2535 - val_accuracy: 0.8978 - val_auc_1: 0.9611\n",
      "Epoch 38/60\n",
      "688/688 [==============================] - 311s 451ms/step - loss: 0.2366 - accuracy: 0.9077 - auc_1: 0.9640 - val_loss: 0.2652 - val_accuracy: 0.8931 - val_auc_1: 0.9559\n",
      "Epoch 39/60\n",
      "688/688 [==============================] - 308s 447ms/step - loss: 0.2367 - accuracy: 0.9076 - auc_1: 0.9639 - val_loss: 0.2545 - val_accuracy: 0.8979 - val_auc_1: 0.9598\n",
      "Epoch 40/60\n",
      "688/688 [==============================] - 311s 452ms/step - loss: 0.2355 - accuracy: 0.9089 - auc_1: 0.9643 - val_loss: 0.2413 - val_accuracy: 0.9020 - val_auc_1: 0.9631\n",
      "Epoch 41/60\n",
      "688/688 [==============================] - 307s 446ms/step - loss: 0.2331 - accuracy: 0.9091 - auc_1: 0.9651 - val_loss: 0.2410 - val_accuracy: 0.9065 - val_auc_1: 0.9650\n",
      "Epoch 42/60\n",
      "688/688 [==============================] - 317s 461ms/step - loss: 0.2322 - accuracy: 0.9092 - auc_1: 0.9652 - val_loss: 0.2723 - val_accuracy: 0.8895 - val_auc_1: 0.9627\n",
      "Epoch 43/60\n",
      "688/688 [==============================] - 316s 459ms/step - loss: 0.2324 - accuracy: 0.9091 - auc_1: 0.9652 - val_loss: 0.3993 - val_accuracy: 0.8414 - val_auc_1: 0.9418\n",
      "Epoch 44/60\n",
      "688/688 [==============================] - 315s 457ms/step - loss: 0.2292 - accuracy: 0.9106 - auc_1: 0.9662 - val_loss: 0.2532 - val_accuracy: 0.9006 - val_auc_1: 0.9637\n",
      "Epoch 45/60\n",
      "688/688 [==============================] - 311s 451ms/step - loss: 0.2289 - accuracy: 0.9108 - auc_1: 0.9662 - val_loss: 0.2705 - val_accuracy: 0.8959 - val_auc_1: 0.9587\n",
      "Epoch 46/60\n",
      "688/688 [==============================] - 310s 450ms/step - loss: 0.2285 - accuracy: 0.9118 - auc_1: 0.9664 - val_loss: 0.3679 - val_accuracy: 0.8500 - val_auc_1: 0.9504\n",
      "Epoch 47/60\n",
      "688/688 [==============================] - 314s 456ms/step - loss: 0.2260 - accuracy: 0.9114 - auc_1: 0.9671 - val_loss: 0.2545 - val_accuracy: 0.9020 - val_auc_1: 0.9651\n",
      "Epoch 48/60\n",
      "688/688 [==============================] - 316s 459ms/step - loss: 0.2262 - accuracy: 0.9124 - auc_1: 0.9671 - val_loss: 0.2875 - val_accuracy: 0.8866 - val_auc_1: 0.9498\n",
      "Epoch 49/60\n",
      "688/688 [==============================] - 312s 453ms/step - loss: 0.2234 - accuracy: 0.9133 - auc_1: 0.9679 - val_loss: 0.2946 - val_accuracy: 0.8849 - val_auc_1: 0.9591\n",
      "Epoch 50/60\n",
      "688/688 [==============================] - 309s 449ms/step - loss: 0.2231 - accuracy: 0.9135 - auc_1: 0.9679 - val_loss: 0.2324 - val_accuracy: 0.9052 - val_auc_1: 0.9688\n",
      "Epoch 51/60\n",
      "688/688 [==============================] - 311s 452ms/step - loss: 0.2220 - accuracy: 0.9137 - auc_1: 0.9682 - val_loss: 0.2166 - val_accuracy: 0.9097 - val_auc_1: 0.9706\n",
      "Epoch 52/60\n",
      "688/688 [==============================] - 309s 449ms/step - loss: 0.2218 - accuracy: 0.9138 - auc_1: 0.9683 - val_loss: 0.2989 - val_accuracy: 0.8867 - val_auc_1: 0.9535\n",
      "Epoch 53/60\n",
      "688/688 [==============================] - 313s 455ms/step - loss: 0.2199 - accuracy: 0.9149 - auc_1: 0.9688 - val_loss: 0.3163 - val_accuracy: 0.8764 - val_auc_1: 0.9544\n",
      "Epoch 54/60\n",
      "688/688 [==============================] - 310s 450ms/step - loss: 0.2194 - accuracy: 0.9156 - auc_1: 0.9689 - val_loss: 0.2774 - val_accuracy: 0.8915 - val_auc_1: 0.9600\n",
      "Epoch 55/60\n",
      "688/688 [==============================] - 308s 448ms/step - loss: 0.2180 - accuracy: 0.9152 - auc_1: 0.9694 - val_loss: 0.2746 - val_accuracy: 0.8899 - val_auc_1: 0.9631\n",
      "Epoch 56/60\n",
      "688/688 [==============================] - 314s 455ms/step - loss: 0.2188 - accuracy: 0.9153 - auc_1: 0.9691 - val_loss: 0.2347 - val_accuracy: 0.9068 - val_auc_1: 0.9670\n",
      "Epoch 57/60\n",
      "688/688 [==============================] - 308s 448ms/step - loss: 0.2166 - accuracy: 0.9163 - auc_1: 0.9698 - val_loss: 0.2732 - val_accuracy: 0.8897 - val_auc_1: 0.9603\n",
      "Epoch 58/60\n",
      "688/688 [==============================] - 315s 458ms/step - loss: 0.2156 - accuracy: 0.9164 - auc_1: 0.9700 - val_loss: 0.2360 - val_accuracy: 0.9032 - val_auc_1: 0.9702\n",
      "Epoch 59/60\n",
      "688/688 [==============================] - 306s 445ms/step - loss: 0.2143 - accuracy: 0.9180 - auc_1: 0.9704 - val_loss: 0.2527 - val_accuracy: 0.8961 - val_auc_1: 0.9649\n",
      "Epoch 60/60\n",
      "688/688 [==============================] - 309s 449ms/step - loss: 0.2149 - accuracy: 0.9175 - auc_1: 0.9703 - val_loss: 0.2657 - val_accuracy: 0.8923 - val_auc_1: 0.9602\n"
     ]
    }
   ],
   "source": [
    "with strategy.scope():\n",
    "    history_v2 = model_v2.fit_generator(training_generator, epochs=60, validation_data = validation_generator)"
   ]
  },
  {
   "cell_type": "markdown",
   "id": "23a75917",
   "metadata": {
    "papermill": {
     "duration": 7.516378,
     "end_time": "2022-10-23T10:33:34.795004",
     "exception": false,
     "start_time": "2022-10-23T10:33:27.278626",
     "status": "completed"
    },
    "tags": []
   },
   "source": [
    "## Results and Analysis"
   ]
  },
  {
   "cell_type": "markdown",
   "id": "0005ce90",
   "metadata": {
    "papermill": {
     "duration": 8.045279,
     "end_time": "2022-10-23T10:33:50.403578",
     "exception": false,
     "start_time": "2022-10-23T10:33:42.358299",
     "status": "completed"
    },
    "tags": []
   },
   "source": [
    "Let's plot our results from this second model."
   ]
  },
  {
   "cell_type": "code",
   "execution_count": 24,
   "id": "fb9af663",
   "metadata": {
    "execution": {
     "iopub.execute_input": "2022-10-23T10:34:05.773667Z",
     "iopub.status.busy": "2022-10-23T10:34:05.773267Z",
     "iopub.status.idle": "2022-10-23T10:34:06.017270Z",
     "shell.execute_reply": "2022-10-23T10:34:06.015808Z"
    },
    "papermill": {
     "duration": 7.995815,
     "end_time": "2022-10-23T10:34:06.020413",
     "exception": false,
     "start_time": "2022-10-23T10:33:58.024598",
     "status": "completed"
    },
    "tags": []
   },
   "outputs": [
    {
     "data": {
      "image/png": "[encoded data removed]",
      "text/plain": [
       "<Figure size 432x288 with 1 Axes>"
      ]
     },
     "metadata": {
      "needs_background": "light"
     },
     "output_type": "display_data"
    }
   ],
   "source": [
    "plt.plot(history_v2.history['accuracy'])\n",
    "plt.plot(history_v2.history['val_accuracy'])\n",
    "plt.title('Model Accuracy')\n",
    "plt.ylabel('accuracy')\n",
    "plt.xlabel('epoch')\n",
    "plt.legend(['train', 'validate'])\n",
    "plt.show()"
   ]
  },
  {
   "cell_type": "code",
   "execution_count": 25,
   "id": "4c6abd17",
   "metadata": {
    "execution": {
     "iopub.execute_input": "2022-10-23T10:34:22.026852Z",
     "iopub.status.busy": "2022-10-23T10:34:22.026467Z",
     "iopub.status.idle": "2022-10-23T10:34:22.240877Z",
     "shell.execute_reply": "2022-10-23T10:34:22.239974Z"
    },
    "papermill": {
     "duration": 8.777048,
     "end_time": "2022-10-23T10:34:22.243212",
     "exception": false,
     "start_time": "2022-10-23T10:34:13.466164",
     "status": "completed"
    },
    "tags": []
   },
   "outputs": [
    {
     "data": {
      "image/png": "[encoded data removed]",
      "text/plain": [
       "<Figure size 432x288 with 1 Axes>"
      ]
     },
     "metadata": {
      "needs_background": "light"
     },
     "output_type": "display_data"
    }
   ],
   "source": [
    "plt.plot(history_v2.history['loss'])\n",
    "plt.plot(history_v2.history['val_loss'])\n",
    "plt.title('Loss by Epoch')\n",
    "plt.ylabel('loss')\n",
    "plt.xlabel('epoch')\n",
    "plt.legend(['train', 'validate'])\n",
    "plt.show()"
   ]
  },
  {
   "cell_type": "markdown",
   "id": "b0d4f994",
   "metadata": {
    "papermill": {
     "duration": 7.467207,
     "end_time": "2022-10-23T10:34:37.056435",
     "exception": false,
     "start_time": "2022-10-23T10:34:29.589228",
     "status": "completed"
    },
    "tags": []
   },
   "source": [
    "Above, we can see that our more expensive model doesn't actually perform that much better, converges at about the same rate, and the validation accuracy is much more sporatic than our baseline model.\n",
    "\n",
    "Is this second model better than the first? In some ways, it appears that some of our \"extra\" parameters are not as helpful as they may appear. Even though the training accuracy curves appear similar in both of these models, the validation accuracy curve (and therefore the validation loss curve) for the second has much more variation involved, meaning that we are likely overfitting with this model. Regardless, we will use this model to score on the Kaggle leaderboard.\n",
    "\n",
    "Now that we've trained our two models, let's generate the data for our testing images and build a submission document based on this data. You will find the results of this submission in part III of this assignment submission within Coursera."
   ]
  },
  {
   "cell_type": "code",
   "execution_count": 26,
   "id": "cdab93ef",
   "metadata": {
    "execution": {
     "iopub.execute_input": "2022-10-23T10:34:52.695163Z",
     "iopub.status.busy": "2022-10-23T10:34:52.694582Z",
     "iopub.status.idle": "2022-10-23T10:37:52.842122Z",
     "shell.execute_reply": "2022-10-23T10:37:52.841065Z"
    },
    "papermill": {
     "duration": 196.304475,
     "end_time": "2022-10-23T10:38:01.283067",
     "exception": false,
     "start_time": "2022-10-23T10:34:44.978592",
     "status": "completed"
    },
    "tags": []
   },
   "outputs": [
    {
     "name": "stdout",
     "output_type": "stream",
     "text": [
      "Found 57458 validated image filenames.\n"
     ]
    }
   ],
   "source": [
    "test_images = pd.DataFrame({'id':os.listdir(test_path)})\n",
    "testing_datagen = ImageDataGenerator(rescale=1./255.)\n",
    "testing_generator = testing_datagen.flow_from_dataframe(dataframe=test_images, directory=test_path, x_col='id', y_col=None, target_size=(64,64) ,batch_size=1, shuffle=False, class_mode=None)"
   ]
  },
  {
   "cell_type": "code",
   "execution_count": 27,
   "id": "11310910",
   "metadata": {
    "execution": {
     "iopub.execute_input": "2022-10-23T10:38:16.495023Z",
     "iopub.status.busy": "2022-10-23T10:38:16.494620Z",
     "iopub.status.idle": "2022-10-23T10:46:20.639633Z",
     "shell.execute_reply": "2022-10-23T10:46:20.638542Z"
    },
    "papermill": {
     "duration": 492.165214,
     "end_time": "2022-10-23T10:46:20.642465",
     "exception": false,
     "start_time": "2022-10-23T10:38:08.477251",
     "status": "completed"
    },
    "tags": []
   },
   "outputs": [
    {
     "name": "stdout",
     "output_type": "stream",
     "text": [
      "57458/57458 [==============================] - 484s 8ms/step\n"
     ]
    }
   ],
   "source": [
    "predict = model_v2.predict(testing_generator, verbose=1)"
   ]
  },
  {
   "cell_type": "code",
   "execution_count": 28,
   "id": "4997a1cb",
   "metadata": {
    "execution": {
     "iopub.execute_input": "2022-10-23T10:46:37.727072Z",
     "iopub.status.busy": "2022-10-23T10:46:37.726655Z",
     "iopub.status.idle": "2022-10-23T10:46:37.950061Z",
     "shell.execute_reply": "2022-10-23T10:46:37.949031Z"
    },
    "papermill": {
     "duration": 8.387811,
     "end_time": "2022-10-23T10:46:37.952523",
     "exception": false,
     "start_time": "2022-10-23T10:46:29.564712",
     "status": "completed"
    },
    "tags": []
   },
   "outputs": [],
   "source": [
    "submit = pd.DataFrame()\n",
    "submit['id'] = test_images['id'].apply(lambda x: x.split('.')[0])\n",
    "submit['label'] = list(map(lambda x: 0 if x < 0.5 else 1, predict))\n",
    "submit.head()\n",
    "submit.to_csv('cnn_submit.csv', index=False)"
   ]
  },
  {
   "cell_type": "markdown",
   "id": "7947f960",
   "metadata": {
    "papermill": {
     "duration": 8.187618,
     "end_time": "2022-10-23T10:46:54.123491",
     "exception": false,
     "start_time": "2022-10-23T10:46:45.935873",
     "status": "completed"
    },
    "tags": []
   },
   "source": [
    "## Conclusion\n",
    "After working with CNNs and trying multiple options, it's easy to feel like your head is spinning. Between selecting layer types, hyperparameters within each layer, activation and optimization techniques, there are a lot of factors to consider.\n",
    "\n",
    "In addition to this, given the vast computing resources available now, it can be easy to add far more layers and utilize many more techniques than are necessary. \n",
    "\n",
    "My largest takeaway is related to this: with all of the factors that one can control when creating a model and because you can maximize your accuracy to the training (and even to the validation) set to an incredible degree, it is easy to have a lot of confidence that your model is very accurate and strong. However, I think it's important, especially when dealing with medical imaging and potentially very impactful and life-altering data such as this, to keep in mind that no model is flawless, and design should be taken very seriously. While most of the work above was the result of trial and error, reading blogs, and referencing documentation, seeking guidance from qualified experts is an important step in using deep learning."
   ]
  },
  {
   "cell_type": "code",
   "execution_count": null,
   "id": "77fd4f2e",
   "metadata": {
    "papermill": {
     "duration": 8.099935,
     "end_time": "2022-10-23T10:47:10.909369",
     "exception": false,
     "start_time": "2022-10-23T10:47:02.809434",
     "status": "completed"
    },
    "tags": []
   },
   "outputs": [],
   "source": []
  }
 ],
 "metadata": {
  "kernelspec": {
   "display_name": "Python 3",
   "language": "python",
   "name": "python3"
  },
  "language_info": {
   "codemirror_mode": {
    "name": "ipython",
    "version": 3
   },
   "file_extension": ".py",
   "mimetype": "text/x-python",
   "name": "python",
   "nbconvert_exporter": "python",
   "pygments_lexer": "ipython3",
   "version": "3.7.12"
  },
  "papermill": {
   "default_parameters": {},
   "duration": 41223.903634,
   "end_time": "2022-10-23T10:47:22.110954",
   "environment_variables": {},
   "exception": null,
   "input_path": "__notebook__.ipynb",
   "output_path": "__notebook__.ipynb",
   "parameters": {},
   "start_time": "2022-10-22T23:20:18.207320",
   "version": "2.3.4"
  }
 },
 "nbformat": 4,
 "nbformat_minor": 5
}
